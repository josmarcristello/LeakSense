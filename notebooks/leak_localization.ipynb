{
 "cells": [
  {
   "cell_type": "code",
   "execution_count": 1,
   "metadata": {
    "collapsed": true
   },
   "outputs": [],
   "source": [
    "#Python\n",
    "import os\n",
    "\n",
    "# Setting path to project root\n",
    "os.chdir(os.path.dirname(os.path.abspath(\"../../DICE_PRIME_PY/app.py\")))"
   ]
  },
  {
   "cell_type": "code",
   "execution_count": 5,
   "metadata": {},
   "outputs": [],
   "source": [
    "# Charts / Data\n",
    "import numpy as np\n",
    "import pandas as pd\n",
    "import matplotlib.pyplot as plt\n",
    "\n",
    "import rttm.batch_generation.RTTM_run as RTTM_run"
   ]
  },
  {
   "cell_type": "code",
   "execution_count": 6,
   "metadata": {
    "collapsed": false
   },
   "outputs": [],
   "source": [
    "df = pd.read_json(\"./rttm/dataset/test_leak.json\")"
   ]
  },
  {
   "cell_type": "code",
   "execution_count": 7,
   "metadata": {},
   "outputs": [],
   "source": [
    "#TODO: Move this to own category\n",
    "\n",
    "def convert_column_to_df(df, column):\n",
    "    # define a function to convert a collection of arrays into a DataFrame\n",
    "    def collection_to_dataframe(collection):\n",
    "        # create a 2D numpy array from the collection\n",
    "        arr = np.array(collection)\n",
    "        # transpose the array to put each element in a separate row\n",
    "        arr = arr.T\n",
    "        # create a DataFrame from the array\n",
    "        return pd.DataFrame(arr)\n",
    "\n",
    "    # apply the function to each column\n",
    "    df_col = df[column].apply(collection_to_dataframe)\n",
    "\n",
    "    # concatenate the resulting DataFrames along axis 2\n",
    "    df_col = pd.concat(df_col.values.tolist(), axis=1)\n",
    "\n",
    "    # set the column names of the new DataFrames\n",
    "    df_col.columns = [f'{i}' for i in range(df_col.shape[1])]\n",
    "    \n",
    "    return df_col"
   ]
  },
  {
   "cell_type": "code",
   "execution_count": 8,
   "metadata": {},
   "outputs": [],
   "source": [
    "class pipeline_data:\n",
    "    def __init__(self, pressure, velocity, t_step, sim_time, x, length, is_gas, input_leak_percentage, input_leak_position, input_leak_zone, is_leak):\n",
    "        self.pressure = pressure\n",
    "        self.velocity = velocity\n",
    "        self.t_step = t_step\n",
    "        self.sim_time = sim_time\n",
    "        self.x = x\n",
    "        self.length = length\n",
    "        self.is_gas = is_gas\n",
    "        self.input_leak_percentage = input_leak_percentage\n",
    "        self.input_leak_position = input_leak_position\n",
    "        self.input_leak_zone = input_leak_zone\n",
    "        self.is_leak = is_leak\n",
    "        \n",
    "    def get_pressure(self):\n",
    "        return self.pressure\n",
    "    \n",
    "    def get_velocity(self):\n",
    "        return self.velocity\n",
    "    \n",
    "    def get_t_step(self):\n",
    "        return self.t_step\n",
    "    \n",
    "    def get_sim_time(self):\n",
    "        return self.sim_time\n",
    "    \n",
    "    def get_x(self):\n",
    "        return self.x\n",
    "    \n",
    "    def get_length(self):\n",
    "        return self.length\n",
    "    \n",
    "    def get_is_gas(self):\n",
    "        return self.is_gas\n",
    "    \n",
    "    def get_input_leak_percentage(self):\n",
    "        return self.input_leak_percentage\n",
    "    \n",
    "    def get_input_leak_position(self):\n",
    "        return self.input_leak_position\n",
    "    \n",
    "    def get_input_leak_zone(self):\n",
    "        return self.input_leak_zone\n",
    "    \n",
    "    def get_is_leak(self):\n",
    "        return self.is_leak\n"
   ]
  },
  {
   "cell_type": "code",
   "execution_count": 9,
   "metadata": {
    "collapsed": false
   },
   "outputs": [],
   "source": [
    "#TODO: Confirm velocity units\n",
    "pressure = convert_column_to_df(df, 'Pressure')/10**6 # x axis → distance, y axis → time]\n",
    "velocity = convert_column_to_df(df, 'Velocity') # x axis → distance, y axis → time\n",
    "\n",
    "t_step = np.array(df['t_step'][0])\n",
    "sim_time = np.array(df['Sim_time'])[0] #single Value, s\n",
    "\n",
    "x = np.array(df['x'][0])\n",
    "length = df['Length'][0] #single Value, meters\n",
    "\n",
    "# Metadata\n",
    "is_gas = df['is_gas'][0]\n",
    "input_leak_percentage = df['input_leak_percentage'][0]\n",
    "input_leak_position = df['input_leak_position'][0]\n",
    "input_leak_zone = df['input_leak_zone'][0]\n",
    "is_leak = df['is_leak'][0]\n",
    "\n",
    "# Data obtained from the pipeline (with a leak)\n",
    "SCADA_Data = pipeline_data(pressure, velocity, t_step, sim_time, x, length, is_gas, input_leak_percentage, input_leak_position, input_leak_zone, is_leak)"
   ]
  },
  {
   "cell_type": "code",
   "execution_count": 29,
   "metadata": {},
   "outputs": [
    {
     "name": "stdout",
     "output_type": "stream",
     "text": [
      "226.30529236793518 Sec\n"
     ]
    }
   ],
   "source": [
    "is_leak = 0\n",
    "df_no_leak = RTTM_run.single_simulation(is_gas, input_leak_percentage, input_leak_position, input_leak_zone, is_leak)"
   ]
  },
  {
   "cell_type": "code",
   "execution_count": 30,
   "metadata": {},
   "outputs": [],
   "source": [
    "pressure = convert_column_to_df(df_no_leak, 'Pressure')/10**6 # x axis → distance, y axis → time\n",
    "velocity = convert_column_to_df(df_no_leak, 'Velocity') # x axis → distance, y axis → time\n",
    "\n",
    "t_step = np.array(df_no_leak['t_step'][0])\n",
    "sim_time = np.array(df_no_leak['Sim_time'])\n",
    "\n",
    "x = np.array(df_no_leak['x'][0])\n",
    "length = np.array(df_no_leak['Length'])\n",
    "\n",
    "# Metadata\n",
    "is_gas = df_no_leak['is_gas'][0]\n",
    "input_leak_percentage = df_no_leak['input_leak_percentage'][0]\n",
    "input_leak_position = df_no_leak['input_leak_position'][0]\n",
    "input_leak_zone = df_no_leak['input_leak_zone'][0]\n",
    "is_leak = df_no_leak['is_leak'][0]\n",
    "\n",
    "# Data generated by RTTM simulation (with no leak)\n",
    "RTTM_Data = pipeline_data(pressure, velocity, t_step, sim_time, x, length, is_gas, input_leak_percentage, input_leak_position, input_leak_zone, is_leak)"
   ]
  },
  {
   "cell_type": "code",
   "execution_count": 31,
   "metadata": {},
   "outputs": [],
   "source": [
    "## Apply the Gradient Intersection Method\n",
    "v_no_leak_inlet = RTTM_Data.get_velocity().iloc[1, -1]\n",
    "v_no_leak_outlet = RTTM_Data.get_velocity().iloc[-1, -1]\n",
    "\n",
    "v_leak_inlet = SCADA_Data.get_velocity().iloc[1, -1] # Velocity at the inlet of the leak, at the last time step\n",
    "v_leak_outlet = SCADA_Data.get_velocity().iloc[-1, -1]\n",
    "\n",
    "x0 = (v_no_leak_inlet**2 - v_leak_outlet**2)/(v_leak_inlet**2-v_leak_outlet**2)\n",
    "leak_loc_rel = x0 # Relative leak position [%]"
   ]
  },
  {
   "cell_type": "code",
   "execution_count": 32,
   "metadata": {},
   "outputs": [
    {
     "name": "stdout",
     "output_type": "stream",
     "text": [
      "Leak position [%]:  0.47\n",
      "Leak position [km]:  14.9946\n",
      "Error [%]:  5.93\n"
     ]
    }
   ],
   "source": [
    "## Format output\n",
    "pipeline_length = SCADA_Data.get_length()\n",
    "leak_loc_abs = leak_loc_rel*pipeline_length # Absolute leak position [m]\n",
    "\n",
    "print(\"Leak position [%]: \", round(leak_loc_rel,2))\n",
    "print(\"Leak position [km]: \", round(leak_loc_abs/10**3,4))\n",
    "\n",
    "real_leak_position = SCADA_Data.get_input_leak_position()\n",
    "error = abs(real_leak_position - leak_loc_rel)/real_leak_position\n",
    "\n",
    "print(\"Error [%]: \", round(error*100,2))"
   ]
  },
  {
   "cell_type": "code",
   "execution_count": 33,
   "metadata": {},
   "outputs": [
    {
     "data": {
      "text/plain": [
       "<matplotlib.lines.Line2D at 0x254bde93ac0>"
      ]
     },
     "execution_count": 33,
     "metadata": {},
     "output_type": "execute_result"
    },
    {
     "data": {
      "image/png": "[encoded data removed]",
      "text/plain": [
       "<Figure size 640x480 with 1 Axes>"
      ]
     },
     "metadata": {},
     "output_type": "display_data"
    }
   ],
   "source": [
    "# Visualization\n",
    "x = SCADA_Data.get_x()\n",
    "pressure = SCADA_Data.get_pressure()\n",
    "\n",
    "fig, ax = plt.subplots()\n",
    "ax.plot(x, pressure.iloc[1:, -1], 'k')\n",
    "ax.set_title('Pressure (Leak is the intersection of derivatives)')\n",
    "ax.set_xlabel('Distance [km]')\n",
    "ax.set_ylabel('Pressure [Pa]')\n",
    "\n",
    "# First Derivative\n",
    "y0 = pressure.iloc[0, -1]\n",
    "y1 = pressure.iloc[round(leak_loc_rel*pressure.shape[0]), -1]\n",
    "x0 = 0\n",
    "x1 = leak_loc_abs\n",
    "\n",
    "# Second Derivative\n",
    "y2 = y1\n",
    "y3 = pressure.iloc[-1, -1]\n",
    "x2 = leak_loc_abs\n",
    "x3 = x[-1]\n",
    "\n",
    "ax.plot([x0, x1], [y0, y1], 'b--', label='$f( VI ) = \\partial p/\\partial x$')\n",
    "ax.plot([x2, x3], [y2, y3], 'r--', label='$f( V_0 ) = \\partial p/\\partial x$')\n",
    "ax.legend(['Flow Behavior (Leak)', '$f( VI ) = \\partial p/\\partial x$', '$f( V_0 ) = \\partial p/\\partial x$'], fontsize=12)\n",
    "\n",
    "# Find the x-coordinate of the intersection point\n",
    "x_int = x1 + (y2-y1)*(x3-x2)/(y3-y2)\n",
    "\n",
    "# Plot a vertical line at the intersection point\n",
    "#plt.axvline(x_int, color='g', linestyle='--')\n",
    "\n",
    "# Plot a vertical line at the intersection point\n",
    "line_height = 0.1*(pressure.iloc[:,-1].max() - pressure.iloc[:,-1].min())\n",
    "plt.axvline(x_int, ymin=0, ymax=pressure.iloc[:,-1].min()/pressure.iloc[:,-1].max(), color='g', linestyle='--')\n"
   ]
  }
 ],
 "metadata": {
  "kernelspec": {
   "display_name": "Python 3",
   "language": "python",
   "name": "python3"
  },
  "language_info": {
   "codemirror_mode": {
    "name": "ipython",
    "version": 3
   },
   "file_extension": ".py",
   "mimetype": "text/x-python",
   "name": "python",
   "nbconvert_exporter": "python",
   "pygments_lexer": "ipython3",
   "version": "3.10.9"
  }
 },
 "nbformat": 4,
 "nbformat_minor": 0
}
